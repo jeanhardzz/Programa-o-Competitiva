{
  "nbformat": 4,
  "nbformat_minor": 0,
  "metadata": {
    "colab": {
      "name": "Prog Competitiva.ipynb",
      "provenance": [],
      "collapsed_sections": [],
      "toc_visible": true
    },
    "kernelspec": {
      "name": "python3",
      "display_name": "Python 3"
    }
  },
  "cells": [
    {
      "cell_type": "markdown",
      "metadata": {
        "id": "LbxHgcXa7wtz",
        "colab_type": "text"
      },
      "source": [
        "# MULTIPLICAR STRING"
      ]
    },
    {
      "cell_type": "code",
      "metadata": {
        "id": "g0LkbDyH7zGR",
        "colab_type": "code",
        "colab": {
          "base_uri": "https://localhost:8080/",
          "height": 68
        },
        "outputId": "5150d4f6-9349-4274-d26b-98e70946b1a8"
      },
      "source": [
        "def multiplica_str(s,p):\n",
        "    return s * p\n",
        "\n",
        "\n",
        "s = input()\n",
        "p = int(input())\n",
        "\n",
        "print(multiplica_str(s,p))"
      ],
      "execution_count": null,
      "outputs": [
        {
          "output_type": "stream",
          "text": [
            "123\n",
            "3\n",
            "123123123\n"
          ],
          "name": "stdout"
        }
      ]
    },
    {
      "cell_type": "markdown",
      "metadata": {
        "id": "T22W-Mq06C38",
        "colab_type": "text"
      },
      "source": [
        "# DIGITO ÚNICO"
      ]
    },
    {
      "cell_type": "code",
      "metadata": {
        "id": "fDRCm1K06HDT",
        "colab_type": "code",
        "colab": {
          "base_uri": "https://localhost:8080/",
          "height": 51
        },
        "outputId": "122434ca-9b79-4b95-c694-7c462fd40ee6"
      },
      "source": [
        "def digito_unico(x):\n",
        "  if(x<10):\n",
        "    return x\n",
        "  else:\n",
        "    return digito_unico(x//10) + x%10\n",
        "\n",
        "x = int(input())\n",
        "print(digito_unico(x))\n"
      ],
      "execution_count": null,
      "outputs": [
        {
          "output_type": "stream",
          "text": [
            "123456789\n",
            "45\n"
          ],
          "name": "stdout"
        }
      ]
    },
    {
      "cell_type": "markdown",
      "metadata": {
        "id": "dNYJAoGka8CI",
        "colab_type": "text"
      },
      "source": [
        "# 1013 MAIOR"
      ]
    },
    {
      "cell_type": "markdown",
      "metadata": {
        "id": "8nt7awcfcK5E",
        "colab_type": "text"
      },
      "source": [
        "**Existe uma formula matematica pra calcular o maior**\n",
        "\n",
        "* maiorab = (a+b+abs(a-b))/2"
      ]
    },
    {
      "cell_type": "code",
      "metadata": {
        "id": "VsQusWs-aoN_",
        "colab_type": "code",
        "colab": {
          "base_uri": "https://localhost:8080/",
          "height": 51
        },
        "outputId": "e71f5c36-7621-444b-bf5b-d1ecd4c5d2af"
      },
      "source": [
        "a,b,c = input().split(\" \")\n",
        "\n",
        "a = int(a)\n",
        "b = int(b)\n",
        "c = int(c)\n",
        "\n",
        "m = (a+b+abs(a-b))/2\n",
        "\n",
        "print(\"{} eh o maior\".format(int((m+c+abs(m-c))/2)))"
      ],
      "execution_count": null,
      "outputs": [
        {
          "output_type": "stream",
          "text": [
            "1 2 3\n",
            "3 eh o maior\n"
          ],
          "name": "stdout"
        }
      ]
    },
    {
      "cell_type": "markdown",
      "metadata": {
        "id": "y1W3wvrHcXyL",
        "colab_type": "text"
      },
      "source": [
        "# 1014 Consumo"
      ]
    },
    {
      "cell_type": "code",
      "metadata": {
        "id": "S1mxxQW3ccG6",
        "colab_type": "code",
        "colab": {
          "base_uri": "https://localhost:8080/",
          "height": 68
        },
        "outputId": "d47107e8-64bd-4903-84f4-15740a609fea"
      },
      "source": [
        "a = int(input())\n",
        "b = float(input())\n",
        "\n",
        "print(\"{:.3f} km/l\".format(a/b))"
      ],
      "execution_count": null,
      "outputs": [
        {
          "output_type": "stream",
          "text": [
            "500\n",
            "35.0\n",
            "14.286 km/l\n"
          ],
          "name": "stdout"
        }
      ]
    },
    {
      "cell_type": "markdown",
      "metadata": {
        "id": "66rLEW_8e1gc",
        "colab_type": "text"
      },
      "source": [
        "# 1015 Distancia entre dois pontos"
      ]
    },
    {
      "cell_type": "code",
      "metadata": {
        "id": "Rj8bHI8Qe5LN",
        "colab_type": "code",
        "colab": {
          "base_uri": "https://localhost:8080/",
          "height": 68
        },
        "outputId": "0ae008d2-e8b5-43a6-f26b-256b22a1e633"
      },
      "source": [
        "from math import sqrt\n",
        "x1,y1 = input().split(\" \")\n",
        "x2,y2 = input().split(\" \")\n",
        "\n",
        "x1 = float(x1)\n",
        "x2 = float(x2)\n",
        "\n",
        "y1 = float(y1)\n",
        "y2 = float(y2)\n",
        "\n",
        "d = pow(abs(x2-x1),2) + pow(abs(y2-y1),2)\n",
        "\n",
        "print(\"{:.4f}\".format(sqrt(d)))"
      ],
      "execution_count": null,
      "outputs": [
        {
          "output_type": "stream",
          "text": [
            "-2.5 0.4\n",
            "12.1 7.3\n",
            "16.1484\n"
          ],
          "name": "stdout"
        }
      ]
    },
    {
      "cell_type": "markdown",
      "metadata": {
        "id": "vZRgoX9sV-tq",
        "colab_type": "text"
      },
      "source": [
        "# 1016 DISTANCIA"
      ]
    },
    {
      "cell_type": "code",
      "metadata": {
        "id": "iunroyoDWFPA",
        "colab_type": "code",
        "colab": {
          "base_uri": "https://localhost:8080/",
          "height": 51
        },
        "outputId": "c8cb424c-2e6e-4bf3-8445-2610745dcbb7"
      },
      "source": [
        "x = int(input())\n",
        "\n",
        "print(\"{} minutos\".format(x*2))"
      ],
      "execution_count": null,
      "outputs": [
        {
          "output_type": "stream",
          "text": [
            "4\n",
            "8 minutos\n"
          ],
          "name": "stdout"
        }
      ]
    },
    {
      "cell_type": "markdown",
      "metadata": {
        "id": "5trvCJ05XSws",
        "colab_type": "text"
      },
      "source": [
        "# 1017 GASTO DE COMBUSTIVEL"
      ]
    },
    {
      "cell_type": "code",
      "metadata": {
        "id": "ecbMcFGMXTO0",
        "colab_type": "code",
        "colab": {
          "base_uri": "https://localhost:8080/",
          "height": 68
        },
        "outputId": "07030ca0-66db-47ef-c728-59c3dc159dad"
      },
      "source": [
        "x = int(input())\n",
        "y = int(input())\n",
        "\n",
        "print(\"{:.3f}\".format((x*y)/12))"
      ],
      "execution_count": null,
      "outputs": [
        {
          "output_type": "stream",
          "text": [
            "10\n",
            "85\n",
            "70.833\n"
          ],
          "name": "stdout"
        }
      ]
    },
    {
      "cell_type": "markdown",
      "metadata": {
        "id": "IPoQdZiSYZQy",
        "colab_type": "text"
      },
      "source": [
        "# 1018 CEDULAS"
      ]
    },
    {
      "cell_type": "code",
      "metadata": {
        "id": "9Aa1gBxGYbvh",
        "colab_type": "code",
        "colab": {
          "base_uri": "https://localhost:8080/",
          "height": 153
        },
        "outputId": "6493595a-f865-42d8-86b0-96d923671783"
      },
      "source": [
        "n = int(input())\n",
        "\n",
        "\n",
        "n100 = n // 100\n",
        "n = n - n100*100\n",
        "\n",
        "n50 = n // 50\n",
        "n = n - n50*50\n",
        "\n",
        "n20 = n // 20\n",
        "n = n - n20*20\n",
        "\n",
        "n10 = n // 10\n",
        "n = n - n10*10\n",
        "\n",
        "n5 = n // 5\n",
        "n = n - n5*5\n",
        "\n",
        "n2 = n // 2\n",
        "n = n - n2*2\n",
        "\n",
        "n1 = n // 1\n",
        "n = n - n1*1\n",
        "\n",
        "print('{} nota(s) de R$ 100,00'.format(n100))\n",
        "print('{} nota(s) de R$ 50,00'.format(n50))\n",
        "print('{} nota(s) de R$ 20,00'.format(n20))\n",
        "print('{} nota(s) de R$ 10,00'.format(n10))\n",
        "print('{} nota(s) de R$ 5,00'.format(n5))\n",
        "print('{} nota(s) de R$ 2,00'.format(n2))\n",
        "print('{} nota(s) de R$ 1,00'.format(n1))"
      ],
      "execution_count": null,
      "outputs": [
        {
          "output_type": "stream",
          "text": [
            "503\n",
            "5 nota(s) de R$ 100,00\n",
            "0 nota(s) de R$ 50,00\n",
            "0 nota(s) de R$ 20,00\n",
            "0 nota(s) de R$ 10,00\n",
            "0 nota(s) de R$ 5,00\n",
            "1 nota(s) de R$ 2,00\n",
            "1 nota(s) de R$ 1,00\n"
          ],
          "name": "stdout"
        }
      ]
    },
    {
      "cell_type": "markdown",
      "metadata": {
        "id": "QXPw2qsAf_H7",
        "colab_type": "text"
      },
      "source": [
        "# 1019 CONVERSÃO DE TEMPO"
      ]
    },
    {
      "cell_type": "code",
      "metadata": {
        "id": "dTotFsQOgFhq",
        "colab_type": "code",
        "colab": {
          "base_uri": "https://localhost:8080/",
          "height": 51
        },
        "outputId": "82bfffd8-3fe5-4229-dbee-29e2f0c0e97b"
      },
      "source": [
        "t = int(input())\n",
        "h = t//3600\n",
        "t = t - (h*3600)\n",
        "m = t//60\n",
        "t = t - (m*60)\n",
        "print(\"{}:{}:{}\".format(h,m,t))"
      ],
      "execution_count": null,
      "outputs": [
        {
          "output_type": "stream",
          "text": [
            "140153\n",
            "38:55:53\n"
          ],
          "name": "stdout"
        }
      ]
    },
    {
      "cell_type": "markdown",
      "metadata": {
        "id": "sQ-KU9eBhKqV",
        "colab_type": "text"
      },
      "source": [
        "# 1020 IDADE EM DIAS"
      ]
    },
    {
      "cell_type": "code",
      "metadata": {
        "id": "06vALKpahNJ3",
        "colab_type": "code",
        "colab": {
          "base_uri": "https://localhost:8080/",
          "height": 85
        },
        "outputId": "6f9f8140-fa1c-4326-d9e0-15f92f86a299"
      },
      "source": [
        "d = int(input())\n",
        "a = d//365\n",
        "d -= a*365\n",
        "m = d//30\n",
        "d -= m*30\n",
        "\n",
        "print(\"{} ano(s)\".format(a))\n",
        "print(\"{} mes(es)\".format(m))\n",
        "print(\"{} dia(s)\".format(d))"
      ],
      "execution_count": null,
      "outputs": [
        {
          "output_type": "stream",
          "text": [
            "30\n",
            "0 ano(s)\n",
            "1 mes(es)\n",
            "0 dia(s)\n"
          ],
          "name": "stdout"
        }
      ]
    },
    {
      "cell_type": "markdown",
      "metadata": {
        "id": "rS17A0rtiEye",
        "colab_type": "text"
      },
      "source": [
        "# 1035 TESTE DE SELEÇÃO"
      ]
    },
    {
      "cell_type": "code",
      "metadata": {
        "id": "IcLcuFOwiG_m",
        "colab_type": "code",
        "colab": {
          "base_uri": "https://localhost:8080/",
          "height": 51
        },
        "outputId": "262b977c-d188-49b0-aa78-f70ac2394508"
      },
      "source": [
        "a,b,c,d = input().split(\" \")\n",
        "a = int(a)\n",
        "b = int(b)\n",
        "c = int(c)\n",
        "d = int(d)\n",
        "\n",
        "if(b>c and d>a and c+d>a+b and c>0 and d>0 and a%2==0):\n",
        "  print(\"Valores aceitos\")\n",
        "else:\n",
        "  print(\"Valores nao aceitos\")"
      ],
      "execution_count": null,
      "outputs": [
        {
          "output_type": "stream",
          "text": [
            "2 3 2 6\n",
            "Valores aceitos\n"
          ],
          "name": "stdout"
        }
      ]
    },
    {
      "cell_type": "markdown",
      "metadata": {
        "id": "YGIzc8nNjFDs",
        "colab_type": "text"
      },
      "source": [
        "# 1036 FORMULA DE BHASKARA"
      ]
    },
    {
      "cell_type": "code",
      "metadata": {
        "id": "1IDpvAVKjJG7",
        "colab_type": "code",
        "colab": {
          "base_uri": "https://localhost:8080/",
          "height": 51
        },
        "outputId": "7a37767d-bb5d-445f-b68c-67741cf367a4"
      },
      "source": [
        "from math import sqrt\n",
        "\n",
        "a,b,c = input().split(\" \")\n",
        "a = float(a)\n",
        "b = float(b)\n",
        "c = float(c)\n",
        "if(a==0):\n",
        "  print(\"Impossivel calcular\")\n",
        "else:\n",
        "  delta = (b*b) - (4*a*c)\n",
        "  if(delta<0):\n",
        "    print(\"Impossivel calcular\")\n",
        "  else:\n",
        "    r1 = (-b + sqrt(delta))/(2*a)\n",
        "    r2 = (-b - sqrt(delta))/(2*a)\n",
        "\n",
        "    print(\"R1 = {:.5f}\".format(r1))\n",
        "    print(\"R2 = {:.5f}\".format(r2))\n"
      ],
      "execution_count": null,
      "outputs": [
        {
          "output_type": "stream",
          "text": [
            "10.0 3.0 5.0\n",
            "Impossivel calcular\n"
          ],
          "name": "stdout"
        }
      ]
    },
    {
      "cell_type": "markdown",
      "metadata": {
        "id": "AtwIKyZJlQtg",
        "colab_type": "text"
      },
      "source": [
        "# 1037 INTERVALO"
      ]
    },
    {
      "cell_type": "code",
      "metadata": {
        "id": "FzZN0cW9lTOW",
        "colab_type": "code",
        "colab": {
          "base_uri": "https://localhost:8080/",
          "height": 51
        },
        "outputId": "74cdcb66-1207-4764-a281-1d3ee29600af"
      },
      "source": [
        "a = float(input())\n",
        "\n",
        "if(a<0 or a >100.0):\n",
        "  print(\"Fora de intervalo\")\n",
        "\n",
        "if(a>=0 and a <=25.0):\n",
        "  print(\"Intervalo [0,25]\")\n",
        "\n",
        "if(a>25.0 and a <=50.0):\n",
        "  print(\"Intervalo (25,50]\")\n",
        "\n",
        "if(a>50.0 and a <=75.0):\n",
        "  print(\"Intervalo (50,75]\")\n",
        "\n",
        "if(a>75.0 and a <=100.0):\n",
        "  print(\"Intervalo (75,100]\")"
      ],
      "execution_count": null,
      "outputs": [
        {
          "output_type": "stream",
          "text": [
            "100.00\n",
            "Intervalo (75,100]\n"
          ],
          "name": "stdout"
        }
      ]
    },
    {
      "cell_type": "markdown",
      "metadata": {
        "id": "XCDhXao3nZsD",
        "colab_type": "text"
      },
      "source": [
        "# 1038 LANCHE"
      ]
    },
    {
      "cell_type": "code",
      "metadata": {
        "id": "lci3Ek10ncCR",
        "colab_type": "code",
        "colab": {
          "base_uri": "https://localhost:8080/",
          "height": 51
        },
        "outputId": "002a7654-56df-46b0-ca74-0c41bbd2499c"
      },
      "source": [
        "a,b = input().split(\" \")\n",
        "a = int(a)\n",
        "b = int(b)\n",
        "\n",
        "if(a==1):\n",
        "  print(\"Total: R$ {:.2f}\".format(b*4.0))\n",
        "if(a==2):\n",
        "  print(\"Total: R$ {:.2f}\".format(b*4.5))\n",
        "if(a==3):\n",
        "  print(\"Total: R$ {:.2f}\".format(b*5.0))\n",
        "if(a==4):\n",
        "  print(\"Total: R$ {:.2f}\".format(b*2.0))\n",
        "if(a==5):\n",
        "  print(\"Total: R$ {:.2f}\".format(b*1.5))"
      ],
      "execution_count": null,
      "outputs": [
        {
          "output_type": "stream",
          "text": [
            "2 3\n",
            "Total: R$ 13.50\n"
          ],
          "name": "stdout"
        }
      ]
    }
  ]
}